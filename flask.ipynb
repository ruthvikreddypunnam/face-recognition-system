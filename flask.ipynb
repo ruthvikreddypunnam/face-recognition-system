{
 "cells": [
  {
   "cell_type": "code",
   "execution_count": null,
   "metadata": {},
   "outputs": [
    {
     "name": "stderr",
     "output_type": "stream",
     "text": [
      "<>:38: SyntaxWarning: \"is not\" with a literal. Did you mean \"!=\"?\n",
      "<>:96: SyntaxWarning: \"is not\" with a literal. Did you mean \"!=\"?\n",
      "<>:38: SyntaxWarning: \"is not\" with a literal. Did you mean \"!=\"?\n",
      "<>:96: SyntaxWarning: \"is not\" with a literal. Did you mean \"!=\"?\n"
     ]
    },
    {
     "name": "stdout",
     "output_type": "stream",
     "text": [
      " * Serving Flask app '__main__' (lazy loading)\n",
      " * Environment: production\n",
      "\u001b[31m   WARNING: This is a development server. Do not use it in a production deployment.\u001b[0m\n",
      "\u001b[2m   Use a production WSGI server instead.\u001b[0m\n",
      " * Debug mode: on\n"
     ]
    },
    {
     "name": "stderr",
     "output_type": "stream",
     "text": [
      "<ipython-input-2-8b403a85f6b6>:38: SyntaxWarning: \"is not\" with a literal. Did you mean \"!=\"?\n",
      "  if faces is not ():\n",
      "<ipython-input-2-8b403a85f6b6>:96: SyntaxWarning: \"is not\" with a literal. Did you mean \"!=\"?\n",
      "  if faces is not ():\n",
      " * Running on http://127.0.0.1:5000/ (Press CTRL+C to quit)\n",
      "127.0.0.1 - - [12/Jun/2021 12:18:12] \"GET / HTTP/1.1\" 200 -\n",
      "127.0.0.1 - - [12/Jun/2021 12:18:12] \"GET /pic.jpg HTTP/1.1\" 404 -\n"
     ]
    },
    {
     "name": "stdout",
     "output_type": "stream",
     "text": [
      "<FileStorage: 'cruise.jpg' ('image/jpeg')>\n"
     ]
    },
    {
     "name": "stderr",
     "output_type": "stream",
     "text": [
      "100%|██████████████████████████████████████████████████████████████████████████████████████████| 60/60 [00:00<?, ?it/s]\n"
     ]
    },
    {
     "name": "stdout",
     "output_type": "stream",
     "text": [
      "['Boris Johnson', 'Emmanuel macron', 'Joe biden', 'Narendra modi', 'ruthvik', 'Tom cruise']\n",
      "WARNING:tensorflow:6 out of the last 6 calls to <function Model.make_predict_function.<locals>.predict_function at 0x000001B6D2AAE820> triggered tf.function retracing. Tracing is expensive and the excessive number of tracings could be due to (1) creating @tf.function repeatedly in a loop, (2) passing tensors with different shapes, (3) passing Python objects instead of tensors. For (1), please define your @tf.function outside of the loop. For (2), @tf.function has experimental_relax_shapes=True option that relaxes argument shapes that can avoid unnecessary retracing. For (3), please refer to https://www.tensorflow.org/guide/function#controlling_retracing and https://www.tensorflow.org/api_docs/python/tf/function for  more details.\n"
     ]
    },
    {
     "name": "stderr",
     "output_type": "stream",
     "text": [
      "127.0.0.1 - - [12/Jun/2021 12:18:22] \"POST /x HTTP/1.1\" 200 -\n",
      "127.0.0.1 - - [12/Jun/2021 12:18:22] \"GET /pic.jpg HTTP/1.1\" 404 -\n"
     ]
    },
    {
     "name": "stdout",
     "output_type": "stream",
     "text": [
      "[[1.1913192e-01 2.0051652e-03 2.2222632e-01 3.3123660e-04 9.4033097e-04\n",
      "  6.5536499e-01]]\n"
     ]
    },
    {
     "name": "stderr",
     "output_type": "stream",
     "text": [
      "100%|██████████████████████████████████████████████████████████████████████████████████| 70/70 [00:02<00:00, 30.27it/s]\n"
     ]
    },
    {
     "name": "stdout",
     "output_type": "stream",
     "text": [
      "Epoch 1/10\n",
      "3/3 [==============================] - 3s 92ms/step - loss: 1.9313 - accuracy: 0.1571\n",
      "Epoch 2/10\n",
      "3/3 [==============================] - 0s 94ms/step - loss: 1.8559 - accuracy: 0.2000\n",
      "Epoch 3/10\n",
      "3/3 [==============================] - 0s 92ms/step - loss: 1.6368 - accuracy: 0.6000\n",
      "Epoch 4/10\n",
      "3/3 [==============================] - 0s 98ms/step - loss: 1.3030 - accuracy: 0.7857\n",
      "Epoch 5/10\n",
      "3/3 [==============================] - 0s 94ms/step - loss: 0.9495 - accuracy: 0.7429\n",
      "Epoch 6/10\n",
      "3/3 [==============================] - 0s 96ms/step - loss: 0.7037 - accuracy: 0.7571\n",
      "Epoch 7/10\n",
      "3/3 [==============================] - 0s 115ms/step - loss: 0.5108 - accuracy: 0.7857\n",
      "Epoch 8/10\n",
      "3/3 [==============================] - 0s 114ms/step - loss: 0.3947 - accuracy: 0.8857\n",
      "Epoch 9/10\n",
      "3/3 [==============================] - 0s 109ms/step - loss: 0.2209 - accuracy: 0.9286\n",
      "Epoch 10/10\n",
      "3/3 [==============================] - 0s 117ms/step - loss: 0.2314 - accuracy: 0.9000\n"
     ]
    },
    {
     "name": "stderr",
     "output_type": "stream",
     "text": [
      "127.0.0.1 - - [12/Jun/2021 12:18:48] \"POST /y HTTP/1.1\" 200 -\n",
      "127.0.0.1 - - [12/Jun/2021 12:18:48] \"GET /pic.jpg HTTP/1.1\" 404 -\n"
     ]
    }
   ],
   "source": [
    "from flask import *  \n",
    "import numpy as np\n",
    "import cv2\n",
    "from keras.models import load_model\n",
    "import os\n",
    "from random import shuffle\n",
    "import matplotlib.pyplot as plt\n",
    "from tqdm import tqdm\n",
    "import tensorflow as tf\n",
    "from tensorflow.keras import datasets,layers,models\n",
    "\n",
    "app = Flask(__name__)  \n",
    "model=load_model('mymodel.h5')\n",
    "          \n",
    "class Predict():\n",
    "    def test(self,img_path):\n",
    "        model=load_model('mymodel.h5')\n",
    "        def my_label(image_name):\n",
    "            name=image_name.split('.')[0]\n",
    "            if name in classes:\n",
    "                pass\n",
    "            else:\n",
    "                classes.append(name)\n",
    "        \n",
    "        def predict_an_image(img):\n",
    "            img=np.expand_dims(img,axis=0)\n",
    "            r=model.predict(img)\n",
    "            print(r)\n",
    "            if np.amax(r)<0.5:\n",
    "                return \"unknown\"\n",
    "            return classes[np.argmax(r)]\n",
    "        \n",
    "        \n",
    "        face_classifier=cv2.CascadeClassifier(\"haarcascade_frontalface_default.xml\")\n",
    "        def face_cropped(img):\n",
    "            gray=cv2.cvtColor(img,cv2.COLOR_BGR2GRAY)\n",
    "            faces=face_classifier.detectMultiScale(gray,1.3,5)\n",
    "            if faces is not ():\n",
    "                for x,y,w,h in faces:\n",
    "                    cropped_face=img[y:y+h,x:x+w]\n",
    "            else:\n",
    "                return None\n",
    "            return cropped_face\n",
    "        \n",
    "        classes=[]\n",
    "        for img in tqdm(os.listdir(\"data\")):\n",
    "            my_label(img)\n",
    "        \n",
    "        img=plt.imread(img_path)\n",
    "        img_data=face_cropped(img)\n",
    "        if img_data is not None:\n",
    "            img_data=cv2.cvtColor(img_data,cv2.COLOR_BGR2GRAY)\n",
    "            img_data=cv2.resize(img_data,(50,50))\n",
    "            img_data=img_data/255.0\n",
    "            img_data=img_data.reshape(50,50,1)\n",
    "            plt.imshow(img_data)\n",
    "            print(classes)\n",
    "            return predict_an_image(img_data)\n",
    "        else:\n",
    "            return \"No faces identified\"\n",
    "#         return \"done\"\n",
    "    \n",
    "@app.route('/')  \n",
    "def upload():  \n",
    "    return render_template(\"home.html\")  \n",
    " \n",
    "@app.route('/x', methods = ['POST'])  \n",
    "def x():  \n",
    "    if request.method == 'POST':  \n",
    "        f = request.files['file']\n",
    "        f.save(f.filename) \n",
    "        print(f)\n",
    "        predict=Predict()\n",
    "        for dirname, _, filenames in os.walk('/kaggle/input'):\n",
    "            for filename in filenames:\n",
    "                print(os.path.join(dirname, filename))\n",
    "        name=predict.test(f.filename)\n",
    "        return render_template(\"x.html\", name = name,path = f.filename) \n",
    "\n",
    "@app.route('/y', methods = ['POST'])  \n",
    "def y():  \n",
    "    if request.method == 'POST':\n",
    "        \n",
    "        classes=[]\n",
    "        def my_label(image_name):\n",
    "            name=image_name.split('.')[0]\n",
    "            if name in classes:\n",
    "                return classes.index(name)\n",
    "            else:\n",
    "                classes.append(name)\n",
    "                return classes.index(name)\n",
    "        \n",
    "        face_classifier=cv2.CascadeClassifier(\"haarcascade_frontalface_default.xml\")\n",
    "        def face_cropped(img):\n",
    "            faces=face_classifier.detectMultiScale(img,1.3,5)\n",
    "            if faces is not ():\n",
    "                for x,y,w,h in faces:\n",
    "                    cropped_face=img[y:y+h,x:x+w]\n",
    "            else:\n",
    "                return None\n",
    "            return cropped_face\n",
    "        \n",
    "        def my_data():\n",
    "            data=[]\n",
    "            for img in tqdm(os.listdir(\"data\")):\n",
    "                path=os.path.join(\"data\",img)\n",
    "                img_data=cv2.imread(path,cv2.IMREAD_GRAYSCALE)\n",
    "                img_data=cv2.resize(img_data,(50,50))\n",
    "                data.append([np.array(img_data),my_label(img)])\n",
    "                shuffle(data)\n",
    "            return data\n",
    "        \n",
    "        f1 = request.files['file1']\n",
    "        nname = request.form['name']\n",
    "        extension=f1.filename.split('.')[-1]\n",
    "        f1.save(f1.filename)\n",
    "        img=plt.imread(f1.filename)\n",
    "        \n",
    "        face=cv2.resize(face_cropped(img),(200,203))\n",
    "        face=cv2.cvtColor(face,cv2.COLOR_BGR2GRAY)\n",
    "        for i in range(1,11):\n",
    "            file_name_path=\"data/\"+nname+\".\"+str(i)+\".\"+extension\n",
    "            cv2.imwrite(file_name_path,face)\n",
    "        \n",
    "        \n",
    "        data=my_data()\n",
    "        x=np.array([a[0] for a in data]).reshape(-1,50,50,1)\n",
    "        y=np.array([a[1] for a in data])\n",
    "        x=x/255.0\n",
    "        cnn=models.Sequential([\n",
    "            layers.Conv2D(filters=32,kernel_size=(3,3),activation='relu',input_shape=(50,50,1)),\n",
    "            layers.MaxPooling2D((2,2)),\n",
    "    \n",
    "            layers.Conv2D(filters=64,kernel_size=(3,3),activation='relu'),\n",
    "            layers.MaxPooling2D((2,2)),\n",
    "    \n",
    "            layers.Flatten(),\n",
    "    \n",
    "            layers.Dense(128,activation='relu'),\n",
    "    \n",
    "            layers.Dense(64,activation='relu'),\n",
    "    \n",
    "            layers.Dense(len(classes),activation='softmax')\n",
    "        ])\n",
    "        cnn.compile(optimizer='adam',\n",
    "            loss='sparse_categorical_crossentropy',\n",
    "            metrics=['accuracy'])\n",
    "        cnn.fit(x,y,epochs=10)\n",
    "        cnn.save('mymodel.h5')\n",
    "        return render_template(\"home.html\") \n",
    "\n",
    "if __name__ == '__main__':\n",
    "    app.run(debug=True, use_reloader=False)"
   ]
  },
  {
   "cell_type": "code",
   "execution_count": null,
   "metadata": {},
   "outputs": [],
   "source": []
  },
  {
   "cell_type": "code",
   "execution_count": null,
   "metadata": {},
   "outputs": [],
   "source": []
  },
  {
   "cell_type": "code",
   "execution_count": null,
   "metadata": {},
   "outputs": [],
   "source": []
  },
  {
   "cell_type": "code",
   "execution_count": 71,
   "metadata": {},
   "outputs": [],
   "source": []
  },
  {
   "cell_type": "code",
   "execution_count": null,
   "metadata": {
    "scrolled": true
   },
   "outputs": [],
   "source": []
  },
  {
   "cell_type": "code",
   "execution_count": null,
   "metadata": {},
   "outputs": [],
   "source": []
  },
  {
   "cell_type": "code",
   "execution_count": null,
   "metadata": {},
   "outputs": [],
   "source": []
  },
  {
   "cell_type": "code",
   "execution_count": null,
   "metadata": {},
   "outputs": [],
   "source": []
  },
  {
   "cell_type": "code",
   "execution_count": null,
   "metadata": {},
   "outputs": [],
   "source": []
  }
 ],
 "metadata": {
  "kernelspec": {
   "display_name": "Python 3",
   "language": "python",
   "name": "python3"
  },
  "language_info": {
   "codemirror_mode": {
    "name": "ipython",
    "version": 3
   },
   "file_extension": ".py",
   "mimetype": "text/x-python",
   "name": "python",
   "nbconvert_exporter": "python",
   "pygments_lexer": "ipython3",
   "version": "3.9.5"
  }
 },
 "nbformat": 4,
 "nbformat_minor": 4
}
